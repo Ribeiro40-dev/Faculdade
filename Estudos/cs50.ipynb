{
 "cells": [
  {
   "cell_type": "code",
   "execution_count": 37,
   "id": "4d27c7d3",
   "metadata": {},
   "outputs": [
    {
     "name": "stdout",
     "output_type": "stream",
     "text": [
      "Hello words! \n"
     ]
    }
   ],
   "source": [
    "print(\"Hello words! \")"
   ]
  },
  {
   "cell_type": "code",
   "execution_count": 3,
   "id": "05e4e448",
   "metadata": {},
   "outputs": [
    {
     "name": "stdout",
     "output_type": "stream",
     "text": [
      "Not agree.\n"
     ]
    }
   ],
   "source": [
    "s = input(\"Do you agree?\")\n",
    "\n",
    "t = s.lower()\n",
    "\n",
    "if t in [\"y\", \"yes\"]:\n",
    "    print(\"Agree.\")\n",
    "elif t in [\"n\", \"no\"]:\n",
    "    print(\"Not agree.\")"
   ]
  },
  {
   "cell_type": "code",
   "execution_count": null,
   "id": "e9539d7d",
   "metadata": {},
   "outputs": [
    {
     "name": "stdout",
     "output_type": "stream",
     "text": [
      "oi\n",
      "Oi\n"
     ]
    }
   ],
   "source": [
    "s = input(\"s: \")\n",
    "t = s.capitalize()\n",
    "print(s)\n",
    "\n",
    "print(t)"
   ]
  },
  {
   "cell_type": "code",
   "execution_count": 12,
   "id": "f5ab8158",
   "metadata": {},
   "outputs": [
    {
     "name": "stdout",
     "output_type": "stream",
     "text": [
      "0\n",
      "1\n",
      "2\n"
     ]
    }
   ],
   "source": [
    "c = 0\n",
    "for c in range (3):\n",
    "    print(c)"
   ]
  },
  {
   "cell_type": "code",
   "execution_count": null,
   "id": "099783e1",
   "metadata": {},
   "outputs": [],
   "source": [
    "while True:\n",
    "    print(\"vida\")\n",
    "    "
   ]
  },
  {
   "cell_type": "code",
   "execution_count": 20,
   "id": "eb00d4e3",
   "metadata": {},
   "outputs": [
    {
     "name": "stdout",
     "output_type": "stream",
     "text": [
      "0.33\n"
     ]
    }
   ],
   "source": [
    "x = int(input(\"x:\"))\n",
    "y = int(input(\"y:\"))\n",
    "\n",
    "z = x / y\n",
    "print(f\"{z:.2f}\")"
   ]
  },
  {
   "cell_type": "code",
   "execution_count": 24,
   "id": "16302929",
   "metadata": {},
   "outputs": [
    {
     "name": "stdout",
     "output_type": "stream",
     "text": [
      "No integer.\n"
     ]
    }
   ],
   "source": [
    "n = input(\"Input: \")\n",
    "\n",
    "if n.isnumeric():\n",
    "    print(\"Integer.\")\n",
    "else:\n",
    "    print(\"No integer.\")"
   ]
  },
  {
   "cell_type": "code",
   "execution_count": 31,
   "id": "dcca8ab1",
   "metadata": {},
   "outputs": [
    {
     "name": "stdout",
     "output_type": "stream",
     "text": [
      "No integer.\n"
     ]
    }
   ],
   "source": [
    "try:\n",
    "    n = int(input(\"Input: \"))\n",
    "    print(\"Integer.\")\n",
    "\n",
    "except ValueError:\n",
    "    print(\"No integer.\")"
   ]
  },
  {
   "cell_type": "code",
   "execution_count": 35,
   "id": "76f22fba",
   "metadata": {},
   "outputs": [
    {
     "name": "stdout",
     "output_type": "stream",
     "text": [
      "#\n",
      "#\n",
      "#\n",
      "#\n",
      "#\n"
     ]
    }
   ],
   "source": [
    "while True:\n",
    "    n = int(input(\"Height: \"))\n",
    "    if n > 0:\n",
    "        break\n",
    "\n",
    "for i in range(n):\n",
    "    print(\"#\")"
   ]
  },
  {
   "cell_type": "code",
   "execution_count": 40,
   "id": "ed1fbaf4",
   "metadata": {},
   "outputs": [
    {
     "name": "stdout",
     "output_type": "stream",
     "text": [
      "####oioioioi\n"
     ]
    }
   ],
   "source": [
    "for i in range(4):\n",
    "    print(\"#\", end=\"\")\n",
    "\n",
    "print(\"oi\" * 4)"
   ]
  },
  {
   "cell_type": "code",
   "execution_count": 53,
   "id": "0991a816",
   "metadata": {},
   "outputs": [
    {
     "name": "stdout",
     "output_type": "stream",
     "text": [
      "####\n",
      "####\n",
      "####\n"
     ]
    }
   ],
   "source": [
    "for i in range(3):\n",
    "    for j in range(4):\n",
    "        print(\"#\", end=\"\")\n",
    "    print()\n"
   ]
  },
  {
   "cell_type": "code",
   "execution_count": 61,
   "id": "7ca81adf",
   "metadata": {},
   "outputs": [
    {
     "name": "stdout",
     "output_type": "stream",
     "text": [
      "Averange: 25.0\n"
     ]
    }
   ],
   "source": [
    "scores = [40, 30, 20, 10] \n",
    "averange = sum(scores) / len(scores)\n",
    "print(f\"Averange: {averange}\")"
   ]
  },
  {
   "cell_type": "code",
   "execution_count": 65,
   "id": "6df8eb77",
   "metadata": {},
   "outputs": [
    {
     "name": "stdout",
     "output_type": "stream",
     "text": [
      " No found! \n"
     ]
    }
   ],
   "source": [
    "names = [\"Maione\", \"Glorinha\", \"Sophia\"]\n",
    "name = input(\"Name: \")\n",
    "\n",
    "for n in names:\n",
    "    if name == n:\n",
    "        print(\"Found\")\n",
    "else:\n",
    "     print(\" No found! \")\n",
    "        "
   ]
  },
  {
   "cell_type": "code",
   "execution_count": null,
   "id": "77b73ad9",
   "metadata": {},
   "outputs": [],
   "source": []
  }
 ],
 "metadata": {
  "kernelspec": {
   "display_name": "Python 3",
   "language": "python",
   "name": "python3"
  },
  "language_info": {
   "codemirror_mode": {
    "name": "ipython",
    "version": 3
   },
   "file_extension": ".py",
   "mimetype": "text/x-python",
   "name": "python",
   "nbconvert_exporter": "python",
   "pygments_lexer": "ipython3",
   "version": "3.13.2"
  }
 },
 "nbformat": 4,
 "nbformat_minor": 5
}
